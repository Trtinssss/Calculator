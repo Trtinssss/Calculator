{
 "cells": [
  {
   "cell_type": "markdown",
   "id": "9b4cb6a7-b181-4046-86bd-971e2dd3976f",
   "metadata": {},
   "source": [
    "# Level 1\n",
    "## Nhận Input, update GUI, tính toán"
   ]
  },
  {
   "cell_type": "code",
   "execution_count": null,
   "id": "ede94883-e64c-47ed-a1dd-137edb210fe3",
   "metadata": {},
   "outputs": [],
   "source": [
    "cal = '''\n",
    " _____________________\n",
    "|  _________________  |\n",
    "| | JO           0. | |\n",
    "| |_________________| |\n",
    "|  ___ ___ ___   ___  |\n",
    "| | 7 | 8 | 9 | | + | |\n",
    "| |___|___|___| |___| |\n",
    "| | 4 | 5 | 6 | | - | |\n",
    "| |___|___|___| |___| |\n",
    "| | 1 | 2 | 3 | | x | |\n",
    "| |___|___|___| |___| |\n",
    "| | . | 0 | = | | / | |\n",
    "| |___|___|___| |___| |\n",
    "|_____________________|\n",
    "'''\n",
    "\n",
    "raw = cal[60:67]\n",
    "user = input()\n",
    "new_cal= cal.replace(raw,str(eval(user)))\n",
    "print(new_cal)\n",
    "\n",
    "\n"
   ]
  },
  {
   "cell_type": "code",
   "execution_count": null,
   "id": "7bb94300-e9af-43a6-92cf-dfa0dd540eb5",
   "metadata": {},
   "outputs": [],
   "source": []
  }
 ],
 "metadata": {
  "kernelspec": {
   "display_name": "Python 3 (ipykernel)",
   "language": "python",
   "name": "python3"
  },
  "language_info": {
   "codemirror_mode": {
    "name": "ipython",
    "version": 3
   },
   "file_extension": ".py",
   "mimetype": "text/x-python",
   "name": "python",
   "nbconvert_exporter": "python",
   "pygments_lexer": "ipython3",
   "version": "3.11.4"
  }
 },
 "nbformat": 4,
 "nbformat_minor": 5
}
